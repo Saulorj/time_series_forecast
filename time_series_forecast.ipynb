{
 "cells": [
  {
   "cell_type": "markdown",
   "id": "convenient-weight",
   "metadata": {},
   "source": [
    "# Time Series Forecast"
   ]
  },
  {
   "cell_type": "markdown",
   "id": "revolutionary-arrest",
   "metadata": {},
   "source": [
    "## References\n",
    "11 Classical Time Series Forecasting Methods in Python (Cheat Sheet)  \n",
    "https://machinelearningmastery.com/time-series-forecasting-methods-in-python-cheat-sheet/\n"
   ]
  },
  {
   "cell_type": "code",
   "execution_count": null,
   "id": "integrated-edinburgh",
   "metadata": {},
   "outputs": [],
   "source": []
  }
 ],
 "metadata": {
  "kernelspec": {
   "display_name": "Python 3",
   "language": "python",
   "name": "python3"
  },
  "language_info": {
   "codemirror_mode": {
    "name": "ipython",
    "version": 3
   },
   "file_extension": ".py",
   "mimetype": "text/x-python",
   "name": "python",
   "nbconvert_exporter": "python",
   "pygments_lexer": "ipython3",
   "version": "3.7.4"
  }
 },
 "nbformat": 4,
 "nbformat_minor": 5
}
